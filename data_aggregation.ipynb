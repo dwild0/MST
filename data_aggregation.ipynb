{
 "cells": [
  {
   "cell_type": "code",
   "execution_count": 1,
   "metadata": {},
   "outputs": [],
   "source": [
    "import pandas as pd "
   ]
  },
  {
   "cell_type": "code",
   "execution_count": 9,
   "metadata": {},
   "outputs": [],
   "source": [
    "SGP0109_df = pd.read_csv(\"Messdaten_09_10/01092022/Messung_SGP30_01_09_2022.txt\", index_col = None, delim_whitespace=True)"
   ]
  },
  {
   "cell_type": "code",
   "execution_count": 12,
   "metadata": {},
   "outputs": [
    {
     "name": "stdout",
     "output_type": "stream",
     "text": [
      "<class 'pandas.core.frame.DataFrame'>\n",
      "RangeIndex: 51130 entries, 0 to 51129\n",
      "Data columns (total 6 columns):\n",
      " #   Column     Non-Null Count  Dtype \n",
      "---  ------     --------------  ----- \n",
      " 0   18:44:12   51130 non-null  object\n",
      " 1   172614752  51130 non-null  int64 \n",
      " 2   2356815    51130 non-null  int64 \n",
      " 3   654208     51130 non-null  int64 \n",
      " 4   2362347    51130 non-null  int64 \n",
      " 5   1          51130 non-null  int64 \n",
      "dtypes: int64(5), object(1)\n",
      "memory usage: 2.3+ MB\n"
     ]
    }
   ],
   "source": [
    "SGP0109_df.head()\n",
    "SGP0109_df.info()"
   ]
  },
  {
   "cell_type": "code",
   "execution_count": null,
   "metadata": {},
   "outputs": [],
   "source": []
  }
 ],
 "metadata": {
  "kernelspec": {
   "display_name": "Python 3.10.6 ('mst')",
   "language": "python",
   "name": "python3"
  },
  "language_info": {
   "codemirror_mode": {
    "name": "ipython",
    "version": 3
   },
   "file_extension": ".py",
   "mimetype": "text/x-python",
   "name": "python",
   "nbconvert_exporter": "python",
   "pygments_lexer": "ipython3",
   "version": "3.10.6"
  },
  "orig_nbformat": 4,
  "vscode": {
   "interpreter": {
    "hash": "e72224a56a4a5dfdf1f79ca8ff5100d8030f6162449924a5315ae2dd1e05812d"
   }
  }
 },
 "nbformat": 4,
 "nbformat_minor": 2
}
